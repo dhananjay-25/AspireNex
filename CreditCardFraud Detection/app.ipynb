{
 "cells": [
  {
   "cell_type": "markdown",
   "metadata": {},
   "source": [
    "## Interactive Prediction function to test the fradulent transactions using out Trained ML Model"
   ]
  },
  {
   "cell_type": "code",
   "execution_count": 6,
   "metadata": {},
   "outputs": [
    {
     "data": {
      "application/vnd.jupyter.widget-view+json": {
       "model_id": "25a1c1fda6c840b2a1a8e1d4b147c9f7",
       "version_major": 2,
       "version_minor": 0
      },
      "text/plain": [
       "Text(value='', description='Input:', layout=Layout(width='50%'), placeholder='Enter values separated by commas…"
      ]
     },
     "metadata": {},
     "output_type": "display_data"
    },
    {
     "data": {
      "application/vnd.jupyter.widget-view+json": {
       "model_id": "b35b4cac78af48fc98f3c825b5d9b722",
       "version_major": 2,
       "version_minor": 0
      },
      "text/plain": [
       "Button(description='Predict', style=ButtonStyle())"
      ]
     },
     "metadata": {},
     "output_type": "display_data"
    },
    {
     "data": {
      "application/vnd.jupyter.widget-view+json": {
       "model_id": "4711f063853243bb85c92f78383536a1",
       "version_major": 2,
       "version_minor": 0
      },
      "text/plain": [
       "Output()"
      ]
     },
     "metadata": {},
     "output_type": "display_data"
    }
   ],
   "source": [
    "import pandas as pd\n",
    "import joblib\n",
    "import ipywidgets as widgets\n",
    "from IPython.display import display\n",
    "import numpy as np\n",
    "\n",
    "# Load the trained model\n",
    "model = joblib.load('best_rf.joblib')\n",
    "\n",
    "# Function to predict fraud based on user input\n",
    "def predict_fraud(input_df):\n",
    "    prediction = model.predict(input_df)\n",
    "    prediction_proba = model.predict_proba(input_df)\n",
    "    return prediction, prediction_proba[:, 1]  # Return class and probability for fraud (class 1)\n",
    "\n",
    "# Define the interactive prediction function\n",
    "def interactive_prediction():\n",
    "    \"\"\"\n",
    "    Function to create an interactive widget for fraud detection.\n",
    "    \"\"\"\n",
    "    # Create input field for comma-separated values\n",
    "    input_text = widgets.Text(\n",
    "        value='',\n",
    "        placeholder='Enter values separated by commas',\n",
    "        description='Input:',\n",
    "        layout=widgets.Layout(width='50%')\n",
    "    )\n",
    "    \n",
    "    # Button to trigger prediction\n",
    "    button = widgets.Button(description=\"Predict\")\n",
    "\n",
    "    # Output area to display results\n",
    "    output = widgets.Output()\n",
    "\n",
    "    # Define the button click event handler\n",
    "    def on_button_clicked(b):\n",
    "        with output:\n",
    "            # Clear previous output\n",
    "            output.clear_output()\n",
    "            \n",
    "            # Get user input and split by commas\n",
    "            user_input = input_text.value.split(',')\n",
    "            \n",
    "            # Ensure there are the correct number of inputs\n",
    "            if len(user_input) != 30:\n",
    "                print(\"Please enter exactly 30 values.\")\n",
    "                return\n",
    "            \n",
    "            # Convert input to a DataFrame\n",
    "            input_values = [float(value.strip()) for value in user_input]\n",
    "            columns = ['Time', 'V1', 'V2', 'V3', 'V4', 'V5', 'V6', 'V7', 'V8', 'V9', 'V10', 'V11', 'V12', 'V13', 'V14', 'V15', 'V16', 'V17', 'V18', 'V19', 'V20', 'V21', 'V22', 'V23', 'V24', 'V25', 'V26', 'V27', 'V28', 'Amount']\n",
    "            input_df = pd.DataFrame([input_values], columns=columns)\n",
    "            \n",
    "            # Compute the Amount_log feature\n",
    "            input_df['Amount_log'] = np.log(input_df['Amount'] + 1e-9)  # Adding a small constant to avoid log(0)\n",
    "            \n",
    "            # Predict fraud\n",
    "            prediction, prediction_proba = predict_fraud(input_df)\n",
    "            \n",
    "            # Display the results\n",
    "            if prediction[0] == 0:\n",
    "                print(f\"No Fraud Detected (Probability: {prediction_proba[0]:.2f})\")\n",
    "            else:\n",
    "                print(f\"Fraud Detected (Probability: {prediction_proba[0]:.2f})\")\n",
    "\n",
    "    # Link the button click event to the handler\n",
    "    button.on_click(on_button_clicked)\n",
    "\n",
    "    # Display the widgets\n",
    "    display(input_text, button, output)\n",
    "\n",
    "# Run the interactive prediction function\n",
    "interactive_prediction()"
   ]
  },
  {
   "cell_type": "code",
   "execution_count": null,
   "metadata": {},
   "outputs": [],
   "source": []
  }
 ],
 "metadata": {
  "kernelspec": {
   "display_name": "base",
   "language": "python",
   "name": "python3"
  },
  "language_info": {
   "codemirror_mode": {
    "name": "ipython",
    "version": 3
   },
   "file_extension": ".py",
   "mimetype": "text/x-python",
   "name": "python",
   "nbconvert_exporter": "python",
   "pygments_lexer": "ipython3",
   "version": "3.11.5"
  }
 },
 "nbformat": 4,
 "nbformat_minor": 2
}
