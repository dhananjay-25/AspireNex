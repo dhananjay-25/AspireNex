{
 "cells": [
  {
   "cell_type": "markdown",
   "metadata": {},
   "source": [
    "# Interactive prediction for movie gener classification"
   ]
  },
  {
   "cell_type": "code",
   "execution_count": 6,
   "metadata": {},
   "outputs": [
    {
     "data": {
      "application/vnd.jupyter.widget-view+json": {
       "model_id": "2d678ef9e81941e2950173a32b8f80bb",
       "version_major": 2,
       "version_minor": 0
      },
      "text/plain": [
       "Textarea(value='', description='Synopsis:', placeholder='Type the movie synopsis here...')"
      ]
     },
     "metadata": {},
     "output_type": "display_data"
    },
    {
     "data": {
      "application/vnd.jupyter.widget-view+json": {
       "model_id": "3c45e3c7eb3743a0b0e59c4b049446de",
       "version_major": 2,
       "version_minor": 0
      },
      "text/plain": [
       "Output()"
      ]
     },
     "metadata": {},
     "output_type": "display_data"
    }
   ],
   "source": [
    "import joblib\n",
    "\n",
    "# Load the model and vectorizer\n",
    "model = joblib.load('movie_genre_model.pkl')\n",
    "vectorizer = joblib.load('tfidf_vectorizer.pkl')\n",
    "\n",
    "def predict_genre(synopsis):\n",
    "    \"\"\"\n",
    "    Predicts the genre of a movie based on its synopsis.\n",
    "    \n",
    "    Parameters:\n",
    "    synopsis (str): The plot summary of the movie.\n",
    "    \n",
    "    Returns:\n",
    "    str: The predicted genre.\n",
    "    \"\"\"\n",
    "    # Preprocess the synopsis\n",
    "    synopsis_tfidf = vectorizer.transform([synopsis])\n",
    "    \n",
    "    # Predict the genre\n",
    "    prediction = model.predict(synopsis_tfidf)\n",
    "    \n",
    "    return prediction[0]\n",
    "\n",
    "import ipywidgets as widgets\n",
    "from IPython.display import display\n",
    "\n",
    "# Create a text area for the synopsis input\n",
    "synopsis_input = widgets.Textarea(\n",
    "    value='',\n",
    "    placeholder='Type the movie synopsis here...',\n",
    "    description='Synopsis:',\n",
    "    disabled=False\n",
    ")\n",
    "\n",
    "# Create an output widget to display the prediction\n",
    "output = widgets.Output()\n",
    "\n",
    "# Define the function to update the output based on the input\n",
    "def on_submit(change):\n",
    "    with output:\n",
    "        output.clear_output()\n",
    "        synopsis = synopsis_input.value\n",
    "        if synopsis:\n",
    "            predicted_genre = predict_genre(synopsis)\n",
    "            print(f\"Predicted Genre: {predicted_genre}\")\n",
    "        else:\n",
    "            print(\"Please enter a movie synopsis.\")\n",
    "\n",
    "# Attach the function to the input widget\n",
    "synopsis_input.observe(on_submit, names='value')\n",
    "\n",
    "# Display the input widget and output\n",
    "display(synopsis_input, output)\n"
   ]
  }
 ],
 "metadata": {
  "kernelspec": {
   "display_name": "base",
   "language": "python",
   "name": "python3"
  },
  "language_info": {
   "codemirror_mode": {
    "name": "ipython",
    "version": 3
   },
   "file_extension": ".py",
   "mimetype": "text/x-python",
   "name": "python",
   "nbconvert_exporter": "python",
   "pygments_lexer": "ipython3",
   "version": "3.11.5"
  }
 },
 "nbformat": 4,
 "nbformat_minor": 2
}
